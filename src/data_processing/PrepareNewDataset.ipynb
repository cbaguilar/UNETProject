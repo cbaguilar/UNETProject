{
  "nbformat": 4,
  "nbformat_minor": 0,
  "metadata": {
    "colab": {
      "provenance": [],
      "gpuType": "T4"
    },
    "kernelspec": {
      "name": "python3",
      "display_name": "Python 3"
    },
    "language_info": {
      "name": "python"
    },
    "accelerator": "GPU"
  },
  "cells": [
    {
      "cell_type": "markdown",
      "source": [
        "#Creating Dataset\n"
      ],
      "metadata": {
        "id": "DgoExGiBq-N2"
      }
    },
    {
      "cell_type": "code",
      "source": [
        "from google.colab import drive\n",
        "\n",
        "# Mount Google Drive\n",
        "drive.mount('/content/drive')"
      ],
      "metadata": {
        "colab": {
          "base_uri": "https://localhost:8080/"
        },
        "id": "qo9hqB7bG0FJ",
        "outputId": "4fd6e522-940f-4533-d847-6b51fda89f13"
      },
      "execution_count": 7,
      "outputs": [
        {
          "output_type": "stream",
          "name": "stdout",
          "text": [
            "Drive already mounted at /content/drive; to attempt to forcibly remount, call drive.mount(\"/content/drive\", force_remount=True).\n"
          ]
        }
      ]
    },
    {
      "cell_type": "code",
      "source": [
        "import matplotlib.pyplot as plt\n",
        "\n",
        "mask_dir = '/content/drive/MyDrive/BIGDATA/training/mask/IDRiD_01_MA.tif'\n",
        "mask = np.array(Image.open(mask_dir).convert('RGB'))\n",
        "print(mask.shape)\n",
        "plt.imshow(mask)\n"
      ],
      "metadata": {
        "id": "MRge6SbMCOva",
        "colab": {
          "base_uri": "https://localhost:8080/",
          "height": 429
        },
        "outputId": "a84c21cd-c8a7-4952-e522-00e9ee5cc996"
      },
      "execution_count": 18,
      "outputs": [
        {
          "output_type": "stream",
          "name": "stdout",
          "text": [
            "(2848, 4288, 3)\n"
          ]
        },
        {
          "output_type": "execute_result",
          "data": {
            "text/plain": [
              "<matplotlib.image.AxesImage at 0x7cf81f395e10>"
            ]
          },
          "metadata": {},
          "execution_count": 18
        },
        {
          "output_type": "display_data",
          "data": {
            "text/plain": [
              "<Figure size 640x480 with 1 Axes>"
            ],
            "image/png": "[encoded data removed]"
          },
          "metadata": {}
        }
      ]
    },
    {
      "cell_type": "code",
      "source": [
        "import cv2\n",
        "import os\n",
        "from PIL import Image\n",
        "import numpy as np\n",
        "import matplotlib.pyplot as plt\n",
        "\n",
        "train_dir = '/content/drive/MyDrive/BIGDATA/training/mask'\n",
        "\n",
        "for i in os.listdir(train_dir):\n",
        "  image_path = os.path.join(train_dir, i)\n",
        "  mask = np.array(Image.open(image_path).convert('RGB'))\n",
        "  is_red = np.any(mask != np.array([0, 0, 0]), axis = -1)\n",
        "  mask[is_red] = [255, 255, 255]\n",
        "  plt.imshow(mask)\n",
        "  plt.axis('off')\n",
        "  plt.savefig('/content/drive/MyDrive/BIGDATA/training/new_mask/' + i, bbox_inches='tight', pad_inches=0)\n"
      ],
      "metadata": {
        "id": "xBPB-msP_c8o"
      },
      "execution_count": null,
      "outputs": []
    },
    {
      "cell_type": "code",
      "source": [
        "train_dir = '/content/drive/MyDrive/BIGDATA/testing/mask'\n",
        "\n",
        "for i in os.listdir(train_dir):\n",
        "  print(i)\n",
        "  image_path = os.path.join(train_dir, i)\n",
        "  # print(image_path)\n",
        "  mask = np.array(Image.open(image_path).convert('RGB'))\n",
        "  is_red = np.any(mask != np.array([0, 0, 0]), axis = -1)\n",
        "  mask[is_red] = [255, 255, 255]\n",
        "  plt.imshow(mask)\n",
        "  plt.axis('off')\n",
        "  plt.savefig('/content/drive/MyDrive/BIGDATA/testing/new_mask/' + i, bbox_inches='tight', pad_inches=0)\n"
      ],
      "metadata": {
        "id": "QHNbIpdCFgjp"
      },
      "execution_count": null,
      "outputs": []
    }
  ]
}